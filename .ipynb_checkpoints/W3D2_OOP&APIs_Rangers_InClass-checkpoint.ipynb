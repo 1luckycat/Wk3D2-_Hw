{
 "cells": [
  {
   "cell_type": "markdown",
   "metadata": {},
   "source": [
    "# Object Oriented Programming 2 - examples and APIs\n"
   ]
  },
  {
   "cell_type": "markdown",
   "metadata": {},
   "source": [
    "## Tasks Today:\n",
    "\n",
    "   \n",
    "\n",
    "1) <b>Restful APIs & HTTP Requests </b> <br>\n",
    " &nbsp;&nbsp;&nbsp;&nbsp; a) What are APIs <br>\n",
    "  &nbsp;&nbsp;&nbsp;&nbsp; b) What does HTTP stand for, request methods, status codes <br>\n",
    " &nbsp;&nbsp;&nbsp;&nbsp; c) Making API requests and retrieving/jsonifying data <br>\n",
    " &nbsp;&nbsp;&nbsp;&nbsp; d) Using APIs requests within functions & classes <br>\n",
    " 2) <b>Working with the Pokemon API </b> <br>\n",
    " &nbsp;&nbsp;&nbsp;&nbsp; a) Making Requests to the Pokemon API<br>\n",
    "  &nbsp;&nbsp;&nbsp;&nbsp; b) Creating a function to make API Requests <br>\n",
    " &nbsp;&nbsp;&nbsp;&nbsp; c) Creating a Pokemon class and instantiating Pokemon objects<br>\n",
    " &nbsp;&nbsp;&nbsp;&nbsp; d) Create an Evolver class that inherits from Pokemon class <br>\n",
    " "
   ]
  },
  {
   "cell_type": "markdown",
   "metadata": {},
   "source": [
    "# working with APis"
   ]
  },
  {
   "cell_type": "markdown",
   "metadata": {},
   "source": [
    "<p> What exactly is an API? <br> <br>\n",
    "API is the acronym for Application Programming Interface, which is a software intermediary that allows two applications to talk to each other. Each time you use an app like Facebook, send an instant message, or check the weather on your phone, you're using an API. </p>"
   ]
  },
  {
   "cell_type": "code",
   "execution_count": null,
   "metadata": {},
   "outputs": [],
   "source": [
    "# REST is the architecture/structure of our APIs, HTTP is the rules/security, \n",
    "# and json is the structure of our data we are transfering\n",
    "\n"
   ]
  },
  {
   "cell_type": "markdown",
   "metadata": {},
   "source": [
    "### The Poke API  allows you to retreive a pokemon's information from PokeAPI https://pokeapi.co/\n",
    "\n"
   ]
  },
  {
   "cell_type": "code",
   "execution_count": null,
   "metadata": {},
   "outputs": [],
   "source": [
    "# making an API call\n",
    "import requests\n",
    "\n",
    "r = requests.get(\"https://pokeapi.co/api/v2/pokemon/charmander\")\n",
    "\n",
    "if r.status_code == 200:\n",
    "    data = r.json()\n",
    "# else:             <----dont need, just showing what happens if error \n",
    "#     print(r.status_code)\n",
    "\n",
    "print(data.keys())\n",
    "#keys we're working with are:\n",
    "# abilities, name, types, weight\n",
    "\n",
    "poke_dict = {\n",
    "    'abilities': [\n",
    "        {\n",
    "            'ability': {\n",
    "                'name': \"blaze\",\n",
    "                'url': \"https://pokeapi.co/api/v2/ability/66/\"\n",
    "            }\n",
    "        },\n",
    "         {\n",
    "             'ability': {\n",
    "                'name': \"solar-power\",\n",
    "                'url': \"https://pokeapi.co/api/v2/ability/94/\"\n",
    "             }\n",
    "        }      \n",
    "    ],\n",
    "    'name': 'charmander',\n",
    "    'weight': 85,\n",
    "    'types': [\n",
    "        {\n",
    "            'type': {\n",
    "                'name': 'fire',\n",
    "                'url': 'https://pokeapi.co/api/v2/type/10/'\n",
    "            }\n",
    "        }\n",
    "    ]\n",
    "        \n",
    "    \n",
    "}\n",
    "\n",
    "print(poke_dict[\"name\"])\n",
    "print(poke_dict[\"weight\"])\n",
    "print(poke_dict[\"abilities\"][0][\"ability\"][\"name\"])\n",
    "print(poke_dict[\"types\"][0][\"type\"][\"name\"])\n",
    "# getting from data now\n",
    "print(data[\"abilities\"][0][\"ability\"][\"name\"])\n"
   ]
  },
  {
   "cell_type": "markdown",
   "metadata": {},
   "source": [
    "### Display a Pokemon's name, weight, abilities, and types"
   ]
  },
  {
   "cell_type": "code",
   "execution_count": null,
   "metadata": {},
   "outputs": [],
   "source": [
    "r = requests.get(\"https://pokeapi.co/api/v2/pokemon/charmander\")\n",
    "\n",
    "if r.status_code == 200:\n",
    "    data = r.json()\n",
    "# print(data.keys())\n",
    "\n",
    "#get the pokemon name\n",
    "name = data[\"name\"]  # data is now our dictionary with all the pokemon information\n",
    "print(name)"
   ]
  },
  {
   "cell_type": "code",
   "execution_count": null,
   "metadata": {},
   "outputs": [],
   "source": [
    "#get types\n",
    "print(data[\"types\"])\n",
    "types = [type_[\"type\"][\"name\"] for type_ in data[\"types\"]]\n",
    "print(types)"
   ]
  },
  {
   "cell_type": "code",
   "execution_count": null,
   "metadata": {},
   "outputs": [],
   "source": [
    "# get pokemone weight\n",
    "weight = data[\"weight\"]\n",
    "print(weight)"
   ]
  },
  {
   "cell_type": "code",
   "execution_count": null,
   "metadata": {},
   "outputs": [],
   "source": [
    "#get pokemon abilites\n",
    "print(data[\"abilities\"])\n",
    "\n",
    "abilities = [pokebility[\"ability\"][\"name\"] for pokebility in data[\"abilities\"]]\n",
    "print(abilities)"
   ]
  },
  {
   "cell_type": "markdown",
   "metadata": {},
   "source": [
    "#### Create a function to Pull in your own Pokemon's data "
   ]
  },
  {
   "cell_type": "code",
   "execution_count": null,
   "metadata": {},
   "outputs": [],
   "source": [
    "def poke_api_call (pokemon):\n",
    "    r = requests.get(f\"https://pokeapi.co/api/v2/pokemon/{pokemon}\")\n",
    "    if r.status_code == 200:\n",
    "        data = r.json()\n",
    "\n",
    "        name = data[\"name\"]\n",
    "        types = [type_[\"type\"][\"name\"] for type_ in data[\"types\"]]\n",
    "        abilities = [pokeability[\"ability\"][\"name\"] for pokeability in data[\"abilities\"]]\n",
    "        weight = data[\"weight\"]\n",
    "\n",
    "        poke = {\n",
    "            \"name\": name,\n",
    "            \"types\": types,\n",
    "            \"abilities\": abilities,\n",
    "            \"weight\": weight\n",
    "            \n",
    "        }\n",
    "\n",
    "        return poke\n",
    "            \n"
   ]
  },
  {
   "cell_type": "code",
   "execution_count": null,
   "metadata": {},
   "outputs": [],
   "source": [
    "poke_api_call(\"squirtle\")"
   ]
  },
  {
   "cell_type": "code",
   "execution_count": null,
   "metadata": {},
   "outputs": [],
   "source": [
    "print(poke_api_call(\"heracross\"))"
   ]
  },
  {
   "cell_type": "code",
   "execution_count": null,
   "metadata": {},
   "outputs": [],
   "source": [
    "poke_api_call(\"pichu\")"
   ]
  },
  {
   "cell_type": "markdown",
   "metadata": {},
   "source": [
    "Choose your pokemon"
   ]
  },
  {
   "cell_type": "code",
   "execution_count": null,
   "metadata": {},
   "outputs": [],
   "source": [
    "\n"
   ]
  },
  {
   "cell_type": "markdown",
   "metadata": {},
   "source": [
    "#### Use your function to create a dictionary of your favorite 6 pokemon"
   ]
  },
  {
   "cell_type": "code",
   "execution_count": null,
   "metadata": {},
   "outputs": [],
   "source": [
    "# Place all 6 of your pokemon on the object below, each pokemon should have at least as much info as Pikachu did.\n",
    "party = ['eevee', 'pikachu', 'vulpix', 'charizard', 'muk', 'dratini']\n",
    "my_six_pokemon = {}\n",
    "for pokemon in party:\n",
    "    poke_stats = poke_api_call(pokemon)\n",
    "    my_six_pokemon[pokemon.title()] = poke_stats\n",
    "\n",
    "print(my_six_pokemon)\n"
   ]
  },
  {
   "cell_type": "markdown",
   "metadata": {},
   "source": [
    "## Lets create a class called 'Pokemon' and create our pokemon as instances"
   ]
  },
  {
   "cell_type": "code",
   "execution_count": null,
   "metadata": {},
   "outputs": [],
   "source": [
    "class Pokemon:\n",
    "    def __init__(self, name):\n",
    "        self.name = name\n",
    "        self.type = []\n",
    "        self.abilities = []\n",
    "        self.weight = None\n",
    "        self.poke_api_call()\n",
    "\n",
    "    def poke_api_call(self):\n",
    "        r = requests.get(f\"https://pokeapi.co/api/v2/pokemon/{self.name.lower()}\")\n",
    "        if r.status_code == 200:\n",
    "            pokemon = r.json()\n",
    "        else:\n",
    "            print(f\"Please check pokemon name spelling and try again: {r.status_code}\")\n",
    "            return   #<----can use to stop program \n",
    "\n",
    "        self.name = pokemon[\"name\"]\n",
    "        self.type = [type_[\"type\"][\"name\"] for type_ in pokemon[\"types\"]]\n",
    "        self.weight = pokemon[\"weight\"]\n",
    "        self.abilities = [pokebility[\"ability\"][\"name\"] for pokebility in pokemon[\"abilities\"]]\n",
    "        print(f\"{self.name}'s data has been updated!\")\n",
    "\n",
    "\n",
    "    def __repr__(self):   #string representation of our object, if not provided we get the objects location in memory instead\n",
    "        return f\"You caught a {self.name.title()}\"\n",
    "\n",
    "    \n",
    "        "
   ]
  },
  {
   "cell_type": "markdown",
   "metadata": {},
   "source": [
    "### Let's Catch some Pokemon"
   ]
  },
  {
   "cell_type": "code",
   "execution_count": null,
   "metadata": {},
   "outputs": [],
   "source": [
    "charmander = Pokemon(\"charmander\")\n",
    "print(charmander.__dict__)\n",
    "print(charmander)\n",
    "print(charmander.weight)"
   ]
  },
  {
   "cell_type": "code",
   "execution_count": null,
   "metadata": {},
   "outputs": [],
   "source": [
    "party = ['eevee', 'pikachu', 'vulpix', 'charizard', 'muk', 'dratini']\n",
    "pokedex = {}\n",
    "for name in party:\n",
    "    new = Pokemon(name)\n",
    "    pokedex[name.title()] = new.__dict__\n",
    "\n",
    "print(pokedex)"
   ]
  },
  {
   "cell_type": "markdown",
   "metadata": {},
   "source": [
    "## Exercise 1:"
   ]
  },
  {
   "cell_type": "markdown",
   "metadata": {},
   "source": [
    "### Create a Method prints an image of your pokemon\n",
    "\n",
    "<p>HINT: You may need another attribute as well to store your image url within. </p>"
   ]
  },
  {
   "cell_type": "code",
   "execution_count": null,
   "metadata": {},
   "outputs": [],
   "source": [
    "# Display an image in Jupyter notebook\n",
    "from IPython.display import Image\n",
    "\n",
    "display(Image( 'https://i.redd.it/45n4mhusa8l41.jpg', width = 300))\n"
   ]
  },
  {
   "cell_type": "code",
   "execution_count": null,
   "metadata": {},
   "outputs": [],
   "source": [
    "# recreate your pokemon class here\n",
    "import requests\n",
    "from IPython.display import Image\n",
    "\n",
    "class Pokemon:\n",
    "    def __init__(self, name):\n",
    "        self.name = name\n",
    "        self.type = []\n",
    "        self.abilities = []\n",
    "        self.weight = None\n",
    "        # add a new image attribute\n",
    "        self.image = None\n",
    "        self.poke_api_call()\n",
    "\n",
    "    def poke_api_call(self):\n",
    "        r = requests.get(f\"https://pokeapi.co/api/v2/pokemon/{self.name.lower()}\")\n",
    "        if r.status_code == 200:\n",
    "            pokemon = r.json()\n",
    "        else:\n",
    "            print(f\"Please check pokemon name spelling and try again: {r.status_code}\")\n",
    "            return   #<----can use to stop program \n",
    "\n",
    "        self.name = pokemon[\"name\"]\n",
    "        self.type = [type_[\"type\"][\"name\"] for type_ in pokemon[\"types\"]]\n",
    "        self.weight = pokemon[\"weight\"]\n",
    "        self.abilities = [pokebility[\"ability\"][\"name\"] for pokebility in pokemon[\"abilities\"]]\n",
    "        # set image attribute\n",
    "        self.image = pokemon[\"sprites\"][\"other\"][\"dream_world\"][\"front_default\"]\n",
    "        print(f\"{self.name}'s data has been updated!\")\n",
    "\n",
    "    # create method to display image\n",
    "    def display(self):\n",
    "        display(Image(url = self.image))\n",
    "\n",
    "\n",
    "    def __repr__(self):   #string representation of our object, if not provided we get the objects location in memory instead\n",
    "        return f\"You caught a {self.name.title()}\"\n",
    "\n",
    "    \n",
    "        \n",
    "        \n",
    "    "
   ]
  },
  {
   "cell_type": "code",
   "execution_count": null,
   "metadata": {},
   "outputs": [],
   "source": [
    "heracross = Pokemon(\"heracross\")\n",
    "heracross.display()"
   ]
  },
  {
   "cell_type": "markdown",
   "metadata": {},
   "source": [
    "## Exercise 2:"
   ]
  },
  {
   "cell_type": "markdown",
   "metadata": {},
   "source": [
    "### Create a Method that evolves your Pokemon\n",
    "If your pokemon can't evolve any further print a message that says \"\\<name of pokemon> can't evolve.\""
   ]
  },
  {
   "cell_type": "markdown",
   "metadata": {},
   "source": [
    "Now let's evolve a few"
   ]
  },
  {
   "cell_type": "code",
   "execution_count": null,
   "metadata": {
    "scrolled": true
   },
   "outputs": [],
   "source": [
    "import requests\n",
    "# recreate your pokemon class here\n",
    "from IPython.display import Image\n",
    "\n",
    "class Pokemon:\n",
    "    def __init__(self, name):\n",
    "        self.name = name\n",
    "        self.type = []\n",
    "        self.abilities = []\n",
    "        self.weight = None\n",
    "        # add a new image attribute\n",
    "        self.image = None\n",
    "        self.poke_api_call()\n",
    "\n",
    "    def poke_api_call(self):\n",
    "        r = requests.get(f\"https://pokeapi.co/api/v2/pokemon/{self.name.lower()}\")\n",
    "        if r.status_code == 200:\n",
    "            pokemon = r.json()\n",
    "        else:\n",
    "            print(f\"Please check pokemon name spelling and try again: {r.status_code}\")\n",
    "            return   #<----can use to stop program \n",
    "\n",
    "        self.name = pokemon[\"name\"]\n",
    "        self.type = [type_[\"type\"][\"name\"] for type_ in pokemon[\"types\"]]\n",
    "        self.weight = pokemon[\"weight\"]\n",
    "        self.abilities = [pokebility[\"ability\"][\"name\"] for pokebility in pokemon[\"abilities\"]]\n",
    "        # set image attribute\n",
    "        self.image = pokemon[\"sprites\"][\"other\"][\"dream_world\"][\"front_default\"]\n",
    "        print(f\"{self.name}'s data has been updated!\")\n",
    "\n",
    "    # create method to display image\n",
    "    def display(self):\n",
    "        display(Image(url = self.image))\n",
    "\n",
    "\n",
    "    def __repr__(self):   #string representation of our object, if not provided we get the objects location in memory instead\n",
    "        return f\"You caught a {self.name.title()}\"\n",
    "\n",
    "    \n",
    "        \n",
    "        \n",
    "    "
   ]
  },
  {
   "cell_type": "code",
   "execution_count": null,
   "metadata": {},
   "outputs": [],
   "source": [
    "## Evolver class should inherit pokemon class\n",
    "from time import sleep\n",
    "\n",
    "class Evolver(Pokemon):\n",
    "    def __init__(self, name):\n",
    "        super().__init__(name)\n",
    "\n",
    "    def evolve(self):\n",
    "        # api call to the pokemon-species endpoint\n",
    "        r = requests.get(f\"https://pokeapi.co/api/v2/pokemon-species/{self.name.lower()}\")\n",
    "        if r.status_code == 200:\n",
    "            pokemon_species = r.json()\n",
    "        else:\n",
    "            print(f\"Ran into an issue, please check your pokemon's name: {r.status_code}\")\n",
    "            return\n",
    "        \n",
    "        r = requests.get(pokemon_species[\"evolution_chain\"][\"url\"])\n",
    "        if r.status_code == 200:\n",
    "            ev_chain = r.json()\n",
    "            ev_chain = ev_chain[\"chain\"]\n",
    "        else:\n",
    "            print(f\"Ran into an issue, please check your pokemon's name: {r.status_code}\")\n",
    "            return\n",
    "\n",
    "        base_name = ev_chain[\"species\"][\"name\"]\n",
    "        evolution = ev_chain[\"evolves_to\"][0]\n",
    "        evolution_name = evolution[\"species\"][\"name\"]\n",
    "\n",
    "        # Evolution 1\n",
    "        if base_name == self.name:\n",
    "            pass\n",
    "\n",
    "        # Evolution 2\n",
    "        elif evolution_name == self.name:\n",
    "            evolution_name = evolution[\"evolves_to\"][0][\"species\"][\"name\"]\n",
    "        \n",
    "        # atempting another evolution\n",
    "        else:\n",
    "            print(f\"You cannot evolve your {self.name} any further...\")\n",
    "            return\n",
    "\n",
    "        print(\".......\")\n",
    "        sleep(2)\n",
    "        print(f\"Your {self.name} is evovling?!?!?!?!?!\")\n",
    "        self.display()\n",
    "        sleep(2)\n",
    "        print(\".......\")\n",
    "        print(f\"Congratulations! Your {self.name} has evolved to.......\")\n",
    "        self.name = evolution_name\n",
    "        self.poke_api_call()\n",
    "        print(f\"{self.name.title()}!!!\")\n",
    "        self.display()\n",
    "\n",
    "        \n"
   ]
  },
  {
   "cell_type": "code",
   "execution_count": null,
   "metadata": {},
   "outputs": [],
   "source": [
    "cyndaquil = Evolver('cyndaquil')\n",
    "print(cyndaquil.name)\n",
    "print(cyndaquil.abilities)"
   ]
  },
  {
   "cell_type": "code",
   "execution_count": null,
   "metadata": {},
   "outputs": [],
   "source": [
    "cyndaquil.evolve()"
   ]
  },
  {
   "cell_type": "markdown",
   "metadata": {},
   "source": [
    "#  Final Exercise: <br> <br>Create a Move_Tutor Class that in herits from the Pokemon parent class.\n",
    "\n",
    "<p>This class should have a list attribute (move_list) that holds pokemon moves which should be populated with an api call to the PokeApi moves section  (just like we did with abilities and types in the Pokemon class example). Finally create a class method that teaches your pokemon up to 4 moves. This method should take in a user input to what move they would like to teach and do a membership inside the move_list. If the move exists inside the move_list the pokemon can learn that move and append to the final taught_moves list. </p> \n",
    "\n"
   ]
  },
  {
   "cell_type": "code",
   "execution_count": null,
   "metadata": {},
   "outputs": [],
   "source": [
    "class Move_Tutor(Pokemon):\n",
    "    def __init__(self, name):\n",
    "        super().__init__(name)\n",
    "        self.move_list = []\n",
    "        self.taught_moves = []\n",
    "        self.poke_api_call()\n",
    "\n",
    "    def poke_api_call(self):\n",
    "        r = requests.get(f\"https://pokeapi.co/api/v2/pokemon/{self.name.lower()}\")\n",
    "        if r.status_code == 200:\n",
    "            pokemon = r.json()\n",
    "        else:\n",
    "            print(f\"Please check the spelling of your pokemon's name and try again!: {r.status_code}\")\n",
    "            return\n",
    "\n",
    "        self.move_list = [moves_l[\"move\"][\"name\"] for moves_l in pokemon[\"moves\"]]\n",
    "        print(f\"{self.name}'s data has been updated!\")\n",
    "        \n",
    "        \n",
    "    def teach_move(self):\n",
    "        i = 0\n",
    "        while i < 4:\n",
    "            choice = input(f\"Would you like to teach your {self.name.title()} some moves? Yes or No:  \").lower()\n",
    "            \n",
    "            if choice == \"yes\":\n",
    "                teaching = input(\"What move would you like to teach your pokemon?: \").lower()\n",
    "                if teaching in self.move_list:\n",
    "                    self.taught_moves.append(teaching)\n",
    "                    i += 1\n",
    "                    print(f\"Your {self.name.title()}'s moves are: {self.taught_moves}\")              \n",
    "                else:\n",
    "                    print(f\"Your {self.name.title()} cannot learn this move!\")\n",
    "            elif choice == \"no\":\n",
    "                if self.taught_moves == []:\n",
    "                    print(f\"Okay! Your {self.name.title()} does not know any moves right now. Bye~!\")\n",
    "                    break\n",
    "\n",
    "                else:\n",
    "                    print(f\"Okay! Your {self.name.title()}'s moves are: {self.taught_moves}.  Bye~!\")\n",
    "                    break\n",
    "\n",
    "    \n",
    "    def show_moves(self):\n",
    "        return f\"Here is a list of moves {self.name.title()} can learn:  {self.move_list}\"\n",
    "                \n",
    "\n"
   ]
  },
  {
   "cell_type": "code",
   "execution_count": null,
   "metadata": {},
   "outputs": [],
   "source": [
    "charmander = Move_Tutor(\"charmander\")\n",
    "charmander.teach_move()"
   ]
  },
  {
   "cell_type": "code",
   "execution_count": null,
   "metadata": {},
   "outputs": [],
   "source": [
    "pikachu = Move_Tutor(\"pikachu\")"
   ]
  },
  {
   "cell_type": "code",
   "execution_count": null,
   "metadata": {},
   "outputs": [],
   "source": [
    "pikachu.teach_move()"
   ]
  },
  {
   "cell_type": "code",
   "execution_count": null,
   "metadata": {},
   "outputs": [],
   "source": [
    "pikachu.show_moves()"
   ]
  }
 ],
 "metadata": {
  "kernelspec": {
   "display_name": "Python 3 (ipykernel)",
   "language": "python",
   "name": "python3"
  },
  "language_info": {
   "codemirror_mode": {
    "name": "ipython",
    "version": 3
   },
   "file_extension": ".py",
   "mimetype": "text/x-python",
   "name": "python",
   "nbconvert_exporter": "python",
   "pygments_lexer": "ipython3",
   "version": "3.12.0"
  }
 },
 "nbformat": 4,
 "nbformat_minor": 4
}
